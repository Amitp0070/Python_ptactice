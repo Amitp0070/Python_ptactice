{
 "cells": [
  {
   "cell_type": "code",
   "execution_count": 5,
   "metadata": {},
   "outputs": [
    {
     "name": "stdout",
     "output_type": "stream",
     "text": [
      "Amit\n"
     ]
    }
   ],
   "source": [
    "name = \"Amit\"\n",
    "age = 25\n",
    "print(name)"
   ]
  },
  {
   "cell_type": "code",
   "execution_count": 13,
   "metadata": {},
   "outputs": [
    {
     "name": "stdout",
     "output_type": "stream",
     "text": [
      "<class 'int'> <class 'float'> <class 'str'> <class 'list'> <class 'tuple'> <class 'dict'> <class 'bool'>\n"
     ]
    }
   ],
   "source": [
    "#  Data Types\n",
    "\n",
    "# Integer\n",
    "a = 10\n",
    "\n",
    "# Float\n",
    "b = 20.5\n",
    "\n",
    "# String\n",
    "c = \"Hello\"\n",
    "\n",
    "# List\n",
    "d = [1, 2, 3]\n",
    "\n",
    "# Tuple\n",
    "e = (4, 5, 6)\n",
    "\n",
    "# Dictionary\n",
    "f = {\"key\": \"value\"}\n",
    "\n",
    "# Boolean\n",
    "g = True\n",
    "\n",
    "print(type(a), type(b), type(c), type(d), type(e), type(f), type(g))\n",
    "# print(a,b,c,d,e,f,g)"
   ]
  },
  {
   "cell_type": "code",
   "execution_count": 21,
   "metadata": {},
   "outputs": [
    {
     "name": "stdout",
     "output_type": "stream",
     "text": [
      "[1, 2, 4, 5, 6, 7, 8]\n"
     ]
    }
   ],
   "source": [
    "# Creating a list\n",
    "my_list = [1, 2, 3, 4,5,6,7]\n",
    "\n",
    "# Adding an element\n",
    "my_list.append(8)\n",
    "\n",
    "# Removing an element\n",
    "my_list.remove(3)\n",
    "\n",
    "# Accessing elements\n",
    "print(my_list)  # Output: 1"
   ]
  },
  {
   "cell_type": "code",
   "execution_count": 35,
   "metadata": {},
   "outputs": [
    {
     "name": "stdout",
     "output_type": "stream",
     "text": [
      "comman_number : [1, 2, 1, 2, 3, 8]\n"
     ]
    }
   ],
   "source": [
    "mylist = [1,2,4,1,2,5,3,7,8,6,9]\n",
    "mylist2 = [1,2,3,8]\n",
    "# c = mylist + mylist2\n",
    "# print(\"c =\", c)\n",
    "# mylist.sort()\n",
    "# print(mylist)\n",
    "comman_number = [num for num in mylist if num in mylist2]\n",
    "print(\"comman_number :\" , comman_number)\n"
   ]
  },
  {
   "cell_type": "code",
   "execution_count": 44,
   "metadata": {},
   "outputs": [],
   "source": [
    "i = 10\n",
    "while i < 10:\n",
    "    print(i)\n",
    "# i += i"
   ]
  },
  {
   "cell_type": "code",
   "execution_count": 50,
   "metadata": {},
   "outputs": [
    {
     "name": "stdout",
     "output_type": "stream",
     "text": [
      "Python is awesome\n"
     ]
    }
   ],
   "source": [
    "x = \"awesome\"\n",
    "\n",
    "def myfunc():\n",
    "  print(\"Python is \" + x)\n",
    "\n",
    "myfunc()"
   ]
  },
  {
   "cell_type": "code",
   "execution_count": 56,
   "metadata": {},
   "outputs": [
    {
     "name": "stdout",
     "output_type": "stream",
     "text": [
      "x is less than 10\n"
     ]
    }
   ],
   "source": [
    "#  Control Structure Stetment\n",
    "\n",
    "x = 5\n",
    "if x < 10:\n",
    "    print(\"x is less than 10\")"
   ]
  },
  {
   "cell_type": "code",
   "execution_count": 63,
   "metadata": {},
   "outputs": [
    {
     "name": "stdout",
     "output_type": "stream",
     "text": [
      "0\n",
      "1\n",
      "2\n",
      "3\n",
      "4\n"
     ]
    }
   ],
   "source": [
    "for i in range(5):\n",
    "    print(i)"
   ]
  },
  {
   "cell_type": "code",
   "execution_count": 73,
   "metadata": {},
   "outputs": [
    {
     "name": "stdout",
     "output_type": "stream",
     "text": [
      "Python is awesome\n",
      "Python is fantastic\n"
     ]
    }
   ],
   "source": [
    "x = 'awesome'\n",
    "def myfunc():\n",
    "    x = 'fantastic'\n",
    "    print('Python is ' + x)\n",
    "print('Python is ' + x)\n",
    "myfunc()"
   ]
  }
 ],
 "metadata": {
  "kernelspec": {
   "display_name": "Python 3",
   "language": "python",
   "name": "python3"
  },
  "language_info": {
   "codemirror_mode": {
    "name": "ipython",
    "version": 3
   },
   "file_extension": ".py",
   "mimetype": "text/x-python",
   "name": "python",
   "nbconvert_exporter": "python",
   "pygments_lexer": "ipython3",
   "version": "3.11.5"
  }
 },
 "nbformat": 4,
 "nbformat_minor": 2
}
