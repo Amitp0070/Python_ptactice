{
 "cells": [
  {
   "cell_type": "code",
   "execution_count": 2,
   "metadata": {},
   "outputs": [],
   "source": [
    "class Person:\n",
    "    def __init__(self, name, gender):\n",
    "        self.name = name\n",
    "        self.gender = gender\n",
    "    \n",
    "    def show(self):\n",
    "        print(f'Name: {self.name}')\n",
    "        print(f'Gender: {self.gender}')"
   ]
  },
  {
   "cell_type": "code",
   "execution_count": 3,
   "metadata": {},
   "outputs": [],
   "source": [
    "class Engineer(Person):\n",
    "    def __init__(self, name, gender, type):\n",
    "        super().__init__(name, gender)\n",
    "        self.type = type\n",
    "\n"
   ]
  },
  {
   "cell_type": "code",
   "execution_count": 4,
   "metadata": {},
   "outputs": [
    {
     "name": "stdout",
     "output_type": "stream",
     "text": [
      "Name: Amit\n",
      "Gender: Male\n",
      "Name: Anish\n",
      "Gender: Male\n"
     ]
    }
   ],
   "source": [
    "e1 = Engineer(\"Amit\", \"Male\", \"Software\")\n",
    "e1.show()\n",
    "\n",
    "p1 = Person(\"Anish\", \"Male\")\n",
    "p1.show()"
   ]
  }
 ],
 "metadata": {
  "kernelspec": {
   "display_name": "Python 3",
   "language": "python",
   "name": "python3"
  },
  "language_info": {
   "codemirror_mode": {
    "name": "ipython",
    "version": 3
   },
   "file_extension": ".py",
   "mimetype": "text/x-python",
   "name": "python",
   "nbconvert_exporter": "python",
   "pygments_lexer": "ipython3",
   "version": "3.11.5"
  }
 },
 "nbformat": 4,
 "nbformat_minor": 2
}
