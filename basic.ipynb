{
 "cells": [
  {
   "cell_type": "code",
   "execution_count": 5,
   "metadata": {},
   "outputs": [],
   "source": [
    "class Bus:\n",
    "    def __init__(self, number, driver, type, manuf):\n",
    "        self.number = number\n",
    "        self.driver = driver\n",
    "        self.bus_type = type\n",
    "        self.manuf = manuf\n",
    "\n",
    "    def info(self):\n",
    "        print(f\"Bus number: {self.number}\")\n",
    "        print(f\"Bus driver: {self.driver}\")\n",
    "        print(f\"Bus Type: {self.bus_type}\")\n",
    "        print(f\"Bus manufacturer: {self.manuf}\")"
   ]
  },
  {
   "cell_type": "code",
   "execution_count": 6,
   "metadata": {},
   "outputs": [
    {
     "name": "stdout",
     "output_type": "stream",
     "text": [
      "Bus number: UP50 AA 1111\n",
      "Bus driver: Amit\n",
      "Bus Type: AC\n",
      "Bus manufacturer: TATA\n",
      "Bus number: UP50 BB 2222\n",
      "Bus driver: Anish\n",
      "Bus Type: Non AC\n",
      "Bus manufacturer: VOLVO\n"
     ]
    }
   ],
   "source": [
    "b1 = Bus(\"UP50 AA 1111\", \"Amit\", \"AC\", \"TATA\")\n",
    "b2 = Bus(\"UP50 BB 2222\", \"Anish\", \"Non AC\", \"VOLVO\")\n",
    "b1.info()\n",
    "b2.info()"
   ]
  }
 ],
 "metadata": {
  "kernelspec": {
   "display_name": "Python 3",
   "language": "python",
   "name": "python3"
  },
  "language_info": {
   "codemirror_mode": {
    "name": "ipython",
    "version": 3
   },
   "file_extension": ".py",
   "mimetype": "text/x-python",
   "name": "python",
   "nbconvert_exporter": "python",
   "pygments_lexer": "ipython3",
   "version": "3.11.5"
  }
 },
 "nbformat": 4,
 "nbformat_minor": 2
}
